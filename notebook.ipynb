{
  "nbformat": 4,
  "nbformat_minor": 0,
  "metadata": {
    "colab": {
      "provenance": [],
      "authorship_tag": "ABX9TyOvihAxHYcHRNfCqilp5Zgg",
      "include_colab_link": true
    },
    "kernelspec": {
      "name": "python3",
      "display_name": "Python 3"
    },
    "language_info": {
      "name": "python"
    },
    "authors": [
      { "name": "Author Two" },
      { "name": "Author One" }
    ]
  },
  "cells": [
    {
      "cell_type": "markdown",
      "source": [
        "A simple notebook."
      ],
      "metadata": {
        "id": "PSOLAGuMMaYg"
      }
    },
    {
      "cell_type": "code",
      "execution_count": null,
      "metadata": {
        "colab": {
          "base_uri": "https://localhost:8080/"
        },
        "id": "z9GVmXMWFnWV",
        "outputId": "f33dda6a-d0fd-40ee-de84-e726fafab5b9"
      },
      "outputs": [
        {
          "output_type": "stream",
          "name": "stdout",
          "text": [
            "Hello world!\n"
          ]
        }
      ],
      "source": [
        "print(\"Hello world!\")"
      ]
    }
  ]
}
